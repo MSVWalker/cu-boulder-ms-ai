{
 "cells": [
  {
   "cell_type": "code",
   "id": "initial_id",
   "metadata": {
    "collapsed": true,
    "ExecuteTime": {
     "end_time": "2025-10-23T21:05:50.960562Z",
     "start_time": "2025-10-23T21:05:32.243661Z"
    }
   },
   "source": [
    "# Standard libraries\n",
    "import os\n",
    "import numpy as np\n",
    "import matplotlib.pyplot as plt\n",
    "import tensorflow as tf\n",
    "from tensorflow.keras.preprocessing import image_dataset_from_directory\n",
    "\n",
    "# Set paths\n",
    "BASE_DIR = \"/Users/michaelwalker/CU_Boulder_Masters_Ai/Introduction to Deep Learning/cu-boulder-ms-ai/Introduction-to-Machine-Learning/deep-learning/Week 5: GANs/data\"\n",
    "MONET_DIR = os.path.join(BASE_DIR, \"monet_jpg\")\n",
    "PHOTO_DIR = os.path.join(BASE_DIR, \"photo_jpg\")\n",
    "\n",
    "print(\"Monet images:\", len(os.listdir(MONET_DIR)))\n",
    "print(\"Photo images:\", len(os.listdir(PHOTO_DIR)))"
   ],
   "outputs": [
    {
     "name": "stdout",
     "output_type": "stream",
     "text": [
      "Monet images: 300\n",
      "Photo images: 7038\n"
     ]
    }
   ],
   "execution_count": 1
  },
  {
   "metadata": {
    "ExecuteTime": {
     "end_time": "2025-10-23T21:05:51.432966Z",
     "start_time": "2025-10-23T21:05:51.022610Z"
    }
   },
   "cell_type": "code",
   "source": [
    "IMG_SIZE = (256, 256)\n",
    "BATCH_SIZE = 16\n",
    "\n",
    "monet_ds = image_dataset_from_directory(\n",
    "    BASE_DIR,\n",
    "    labels=None,\n",
    "    color_mode=\"rgb\",\n",
    "    batch_size=BATCH_SIZE,\n",
    "    image_size=IMG_SIZE,\n",
    "    shuffle=True,\n",
    "    interpolation=\"bilinear\",\n",
    "    validation_split=None,\n",
    ")\n",
    "\n",
    "# Helper function for normalization to [-1, 1]\n",
    "def normalize_img(img):\n",
    "    img = tf.cast(img, tf.float32)\n",
    "    img = (img / 127.5) - 1.0\n",
    "    return img\n",
    "\n",
    "monet_ds = monet_ds.map(lambda x: normalize_img(x))"
   ],
   "id": "a556119583302bd8",
   "outputs": [
    {
     "name": "stdout",
     "output_type": "stream",
     "text": [
      "Found 7338 files.\n"
     ]
    },
    {
     "name": "stderr",
     "output_type": "stream",
     "text": [
      "2025-10-23 14:05:51.244774: I metal_plugin/src/device/metal_device.cc:1154] Metal device set to: Apple M1\n",
      "2025-10-23 14:05:51.244813: I metal_plugin/src/device/metal_device.cc:296] systemMemory: 16.00 GB\n",
      "2025-10-23 14:05:51.244816: I metal_plugin/src/device/metal_device.cc:313] maxCacheSize: 5.33 GB\n",
      "2025-10-23 14:05:51.244851: I tensorflow/core/common_runtime/pluggable_device/pluggable_device_factory.cc:305] Could not identify NUMA node of platform GPU ID 0, defaulting to 0. Your kernel may not have been built with NUMA support.\n",
      "2025-10-23 14:05:51.244864: I tensorflow/core/common_runtime/pluggable_device/pluggable_device_factory.cc:271] Created TensorFlow device (/job:localhost/replica:0/task:0/device:GPU:0 with 0 MB memory) -> physical PluggableDevice (device: 0, name: METAL, pci bus id: <undefined>)\n"
     ]
    }
   ],
   "execution_count": 2
  },
  {
   "metadata": {},
   "cell_type": "code",
   "outputs": [],
   "execution_count": null,
   "source": "",
   "id": "cffea28192014b6"
  }
 ],
 "metadata": {
  "kernelspec": {
   "display_name": "Python 3",
   "language": "python",
   "name": "python3"
  },
  "language_info": {
   "codemirror_mode": {
    "name": "ipython",
    "version": 2
   },
   "file_extension": ".py",
   "mimetype": "text/x-python",
   "name": "python",
   "nbconvert_exporter": "python",
   "pygments_lexer": "ipython2",
   "version": "2.7.6"
  }
 },
 "nbformat": 4,
 "nbformat_minor": 5
}
